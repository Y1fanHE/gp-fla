{
 "cells": [
  {
   "cell_type": "code",
   "execution_count": null,
   "metadata": {},
   "outputs": [],
   "source": [
    "from fla_tools import get_fitness_distance"
   ]
  },
  {
   "cell_type": "code",
   "execution_count": null,
   "metadata": {},
   "outputs": [],
   "source": [
    "arity = {\n",
    "    \"ant\": {\n",
    "        \"S\":2, \"P2\":2, \"P3\":3,\n",
    "        \"F\":0, \"L\":0, \"R\":0\n",
    "    },\n",
    "    \"parity\": {\n",
    "        \"AND\":2, \"OR\":2, \"XOR\":2, \"NOT\":1,\n",
    "        \"1\":0, \"0\":0,\n",
    "        \"IN0\": 0, \"IN1\": 0, \"IN2\": 0, \"IN3\": 0, \"IN4\": 0, \"IN5\": 0\n",
    "    },\n",
    "    \"nguyen\": {\n",
    "        \"ADD\":2, \"SUB\":2, \"MUL\":2, \"DIV\":2,\n",
    "        \"SIN\":1, \"COS\":1, \"EXP\":1, \"LOG\":1,\n",
    "        \"X0\":0, \"X1\":0, \"1\":0\n",
    "    }\n",
    "}"
   ]
  },
  {
   "cell_type": "code",
   "execution_count": null,
   "metadata": {},
   "outputs": [],
   "source": [
    "get_fitness_distance(\"dat/ant1-5.zip\", \"fdc/ant1-5.csv\", arity[\"ant\"])\n",
    "get_fitness_distance(\"dat/ant1-7.zip\", \"fdc/ant1-7.csv\", arity[\"ant\"])\n",
    "get_fitness_distance(\"dat/ant1-9.zip\", \"fdc/ant1-9.csv\", arity[\"ant\"])"
   ]
  },
  {
   "cell_type": "code",
   "execution_count": null,
   "metadata": {},
   "outputs": [],
   "source": [
    "get_fitness_distance(\"dat/parity4-5.zip\", \"fdc/parity4-5.csv\", arity[\"parity\"])\n",
    "get_fitness_distance(\"dat/parity4-7.zip\", \"fdc/parity4-7.csv\", arity[\"parity\"])\n",
    "get_fitness_distance(\"dat/parity4-9.zip\", \"fdc/parity4-9.csv\", arity[\"parity\"])"
   ]
  },
  {
   "cell_type": "code",
   "execution_count": null,
   "metadata": {},
   "outputs": [],
   "source": [
    "get_fitness_distance(\"dat/parity6-5.zip\", \"fdc/parity6-5.csv\", arity[\"parity\"])\n",
    "get_fitness_distance(\"dat/parity6-7.zip\", \"fdc/parity6-7.csv\", arity[\"parity\"])\n",
    "get_fitness_distance(\"dat/parity6-9.zip\", \"fdc/parity6-9.csv\", arity[\"parity\"])"
   ]
  },
  {
   "cell_type": "code",
   "execution_count": null,
   "metadata": {},
   "outputs": [],
   "source": [
    "got, gof = \"MUL(ADD(MUL(X0,X0),X0),ADD(MUL(X0,X0),1))\", 0\n",
    "get_fitness_distance(\"dat/nguyen2-5.zip\", \"fdc/nguyen2-5.csv\", arity[\"nguyen\"], direction=-1, global_optima_tree=got, global_optima_fit=gof)\n",
    "get_fitness_distance(\"dat/nguyen2-7.zip\", \"fdc/nguyen2-7.csv\", arity[\"nguyen\"], direction=-1, global_optima_tree=got, global_optima_fit=gof)\n",
    "get_fitness_distance(\"dat/nguyen2-9.zip\", \"fdc/nguyen2-9.csv\", arity[\"nguyen\"], direction=-1, global_optima_tree=got, global_optima_fit=gof)"
   ]
  },
  {
   "cell_type": "code",
   "execution_count": null,
   "metadata": {},
   "outputs": [],
   "source": [
    "got, gof = \"ADD(SIN(X0),COS(MUL(X0,X0)))\", 0\n",
    "get_fitness_distance(\"dat/nguyen9-5.zip\", \"fdc/nguyen9-5.csv\", arity[\"nguyen\"], direction=-1, global_optima_tree=got, global_optima_fit=gof)\n",
    "get_fitness_distance(\"dat/nguyen9-7.zip\", \"fdc/nguyen9-7.csv\", arity[\"nguyen\"], direction=-1, global_optima_tree=got, global_optima_fit=gof)\n",
    "get_fitness_distance(\"dat/nguyen9-9.zip\", \"fdc/nguyen9-9.csv\", arity[\"nguyen\"], direction=-1, global_optima_tree=got, global_optima_fit=gof)"
   ]
  }
 ],
 "metadata": {
  "kernelspec": {
   "display_name": "Python 3 (ipykernel)",
   "language": "python",
   "name": "python3"
  },
  "language_info": {
   "codemirror_mode": {
    "name": "ipython",
    "version": 3
   },
   "file_extension": ".py",
   "mimetype": "text/x-python",
   "name": "python",
   "nbconvert_exporter": "python",
   "pygments_lexer": "ipython3",
   "version": "3.9.13"
  },
  "vscode": {
   "interpreter": {
    "hash": "31f2aee4e71d21fbe5cf8b01ff0e069b9275f58929596ceb00d14d90e3e16cd6"
   }
  }
 },
 "nbformat": 4,
 "nbformat_minor": 4
}
