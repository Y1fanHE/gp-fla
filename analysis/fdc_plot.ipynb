{
 "cells": [
  {
   "cell_type": "code",
   "execution_count": 1,
   "metadata": {},
   "outputs": [],
   "source": [
    "import numpy as np\n",
    "import matplotlib.pyplot as plt\n",
    "from scipy.stats import spearmanr\n",
    "plt.style.use(\"bmh\")"
   ]
  },
  {
   "cell_type": "code",
   "execution_count": 4,
   "metadata": {},
   "outputs": [
    {
     "name": "stdout",
     "output_type": "stream",
     "text": [
      "ant1 -0.02 0.0\n",
      "ant1 0.135 0.0\n",
      "ant1 -0.224 0.0\n",
      "parity4 -0.047 0.0\n",
      "parity4 -0.064 0.0\n",
      "parity4 0.002 0.886\n",
      "parity6 -0.072 0.0\n",
      "parity6 -0.142 0.0\n",
      "parity6 -0.029 0.0\n"
     ]
    },
    {
     "data": {
      "text/plain": [
       "<Figure size 1500x300 with 0 Axes>"
      ]
     },
     "metadata": {},
     "output_type": "display_data"
    },
    {
     "data": {
      "text/plain": [
       "<Figure size 1500x300 with 0 Axes>"
      ]
     },
     "metadata": {},
     "output_type": "display_data"
    },
    {
     "data": {
      "text/plain": [
       "<Figure size 1500x300 with 0 Axes>"
      ]
     },
     "metadata": {},
     "output_type": "display_data"
    }
   ],
   "source": [
    "for name in [\"ant1\", \"parity4\", \"parity6\"]:\n",
    "    fig, ax = plt.subplots(1, 4, figsize=(15,3))\n",
    "    plt.subplots_adjust(wspace=0.15)\n",
    "    for i, h in enumerate([5,7,9]):\n",
    "        dat = np.loadtxt(f\"fdc/{name}-{h}.csv\", delimiter=\",\")\n",
    "        ax[i].scatter(dat[:,1], dat[:,0], alpha=.5, zorder=2)\n",
    "        ax[i].set_xlabel(\"Distance\")\n",
    "        ax[i].set_xlim(-5,80)\n",
    "        if i==0:\n",
    "            ax[i].set_ylabel(\"Fitness\")\n",
    "        ax[i].set_title(f\"Max Height={h}\")\n",
    "        corr, p = spearmanr(dat[:,0], dat[:,1])\n",
    "        print(name, round(corr, 3), round(p, 3))\n",
    "    ax[3].set_visible(False)\n",
    "    plt.savefig(f\"fdc/{name}.png\", dpi=300, bbox_inches=\"tight\")\n",
    "    plt.clf()\n"
   ]
  },
  {
   "cell_type": "code",
   "execution_count": 3,
   "metadata": {},
   "outputs": [
    {
     "name": "stdout",
     "output_type": "stream",
     "text": [
      "nguyen2 -0.242 0.0\n",
      "nguyen9 -0.242 0.0\n"
     ]
    },
    {
     "data": {
      "text/plain": [
       "<Figure size 1500x300 with 0 Axes>"
      ]
     },
     "metadata": {},
     "output_type": "display_data"
    },
    {
     "data": {
      "text/plain": [
       "<Figure size 1500x300 with 0 Axes>"
      ]
     },
     "metadata": {},
     "output_type": "display_data"
    }
   ],
   "source": [
    "for name in [\"nguyen2\", \"nguyen9\"]:\n",
    "    fig, ax = plt.subplots(1, 4, figsize=(15,3))\n",
    "    plt.subplots_adjust(wspace=0.15)\n",
    "    for i, h in enumerate([5,7,9]):\n",
    "        dat = np.loadtxt(f\"fdc/{name}-{h}.csv\", delimiter=\",\")\n",
    "        dat = dat[np.where(dat[:,0]<1e+4)]\n",
    "        ax[i].scatter(dat[:,1], dat[:,0], alpha=.5, zorder=2)\n",
    "        ax[i].set_xlabel(\"Distance\")\n",
    "        ax[i].set_xlim(-5,80)\n",
    "        if i==0:\n",
    "            ax[i].set_ylabel(\"Fitness\")\n",
    "        ax[i].set_yscale(\"symlog\")\n",
    "        ax[i].set_ylim(-0.1,15000)\n",
    "        ax[i].set_title(f\"Max Height={h}\")\n",
    "    ax[3].set_visible(False)\n",
    "    plt.savefig(f\"fdc/{name}.png\", dpi=300, bbox_inches=\"tight\")\n",
    "    plt.clf()\n",
    "    corr, p = spearmanr(dat[:,0], dat[:,1])\n",
    "    print(name, round(corr, 3), round(p, 3))"
   ]
  }
 ],
 "metadata": {
  "kernelspec": {
   "display_name": "Python 3 (ipykernel)",
   "language": "python",
   "name": "python3"
  },
  "language_info": {
   "codemirror_mode": {
    "name": "ipython",
    "version": 3
   },
   "file_extension": ".py",
   "mimetype": "text/x-python",
   "name": "python",
   "nbconvert_exporter": "python",
   "pygments_lexer": "ipython3",
   "version": "3.9.13"
  },
  "vscode": {
   "interpreter": {
    "hash": "8e635e5f2c0e0067032196df190b5dc62abc584d879272440cf57a9a3a9edfc2"
   }
  }
 },
 "nbformat": 4,
 "nbformat_minor": 4
}
